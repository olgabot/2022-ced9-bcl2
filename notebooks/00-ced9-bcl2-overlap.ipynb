{
 "cells": [
  {
   "cell_type": "code",
   "execution_count": 1,
   "id": "d2434250-9f6f-4942-b816-e0d25b66e91d",
   "metadata": {},
   "outputs": [],
   "source": [
    "import pandas as pd"
   ]
  },
  {
   "cell_type": "code",
   "execution_count": 42,
   "id": "3a570dab-cf14-4d23-b500-3cf5b2594690",
   "metadata": {},
   "outputs": [],
   "source": [
    "ksizes = range(5, 31)\n",
    "\n",
    "\n",
    "def compute_jaccard(set_a, set_b):\n",
    "    intersection = ced9_hashes.intersection(bcl2_hashes)\n",
    "    union = ced9_hashes.union(bcl2_hashes)\n",
    "    return len(intersection) / len(union)\n",
    "\n",
    "\n",
    "ced9_template = r\"../ced9_P41958.fasta.singleton.hp.k{ksize}.scaled1.kmers.csv\"\n",
    "bcl2_template = \"../bcl2_P10415.fasta.singleton.hp.k{ksize}.scaled1.kmers.csv\"\n",
    "\n",
    "# for ksize in ksizes:\n",
    "ksize = 15\n",
    "ced9 = pd.read_csv(ced9_template.format(ksize=ksize))\n",
    "bcl2 = pd.read_csv(bcl2_template.format(ksize=ksize))"
   ]
  },
  {
   "cell_type": "code",
   "execution_count": 43,
   "id": "a1a24d41-b058-4bc4-8b2f-f5f39e679a52",
   "metadata": {},
   "outputs": [
    {
     "data": {
      "text/plain": [
       "0      hpppphppphpphhh\n",
       "1      pppphppphpphhhp\n",
       "2      ppphppphpphhhpp\n",
       "3      pphppphpphhhppp\n",
       "4      phppphpphhhpppp\n",
       "            ...       \n",
       "220    hphhhhhhphphhhh\n",
       "221    phhhhhhphphhhhh\n",
       "222    hhhhhhphphhhhhh\n",
       "223    hhhhhphphhhhhhp\n",
       "224    hhhhphphhhhhhpp\n",
       "Name: kmer_in_alphabet, Length: 491, dtype: object"
      ]
     },
     "execution_count": 43,
     "metadata": {},
     "output_type": "execute_result"
    }
   ],
   "source": [
    "alphabet_kmers = pd.concat([ced9.kmer_in_alphabet, bcl2.kmer_in_alphabet])\n",
    "alphabet_kmers"
   ]
  },
  {
   "cell_type": "code",
   "execution_count": 44,
   "id": "e98affbc-cdfc-46cb-89e8-45f2d9b55da3",
   "metadata": {},
   "outputs": [
    {
     "data": {
      "text/plain": [
       "kmer_in_alphabet\n",
       "pphhphhphhhhhph    2\n",
       "phhphhphhhhhphh    2\n",
       "hhphhphhhhhphhh    2\n",
       "hphhphhhhhphhhh    2\n",
       "phhphhhhhphhhhh    2\n",
       "                  ..\n",
       "hphppppphhphhph    1\n",
       "hhphppppphhphhp    1\n",
       "phhphppppphhphh    1\n",
       "pphhphppppphhph    1\n",
       "hhhhphphhhhhhpp    1\n",
       "Name: count, Length: 486, dtype: int64"
      ]
     },
     "execution_count": 44,
     "metadata": {},
     "output_type": "execute_result"
    }
   ],
   "source": [
    "alphabet_kmers.value_counts()"
   ]
  },
  {
   "cell_type": "code",
   "execution_count": 45,
   "id": "898cbf54-448a-4072-a1fb-a9ec3d505485",
   "metadata": {},
   "outputs": [
    {
     "data": {
      "text/plain": [
       "0.0102880658436214"
      ]
     },
     "execution_count": 45,
     "metadata": {},
     "output_type": "execute_result"
    }
   ],
   "source": [
    "ced9_hashes = set(ced9.hashval)\n",
    "bcl2_hashes = set(bcl2.hashval)\n",
    "jaccard = len(ced9_hashes.intersection(bcl2_hashes)) / len(\n",
    "    ced9_hashes.union(bcl2_hashes)\n",
    ")\n",
    "jaccard"
   ]
  },
  {
   "cell_type": "code",
   "execution_count": 46,
   "id": "f66fc38e-a619-44e2-b1b2-773d16d2bf63",
   "metadata": {},
   "outputs": [
    {
     "data": {
      "text/html": [
       "<div>\n",
       "<style scoped>\n",
       "    .dataframe tbody tr th:only-of-type {\n",
       "        vertical-align: middle;\n",
       "    }\n",
       "\n",
       "    .dataframe tbody tr th {\n",
       "        vertical-align: top;\n",
       "    }\n",
       "\n",
       "    .dataframe thead th {\n",
       "        text-align: right;\n",
       "    }\n",
       "</style>\n",
       "<table border=\"1\" class=\"dataframe\">\n",
       "  <thead>\n",
       "    <tr style=\"text-align: right;\">\n",
       "      <th></th>\n",
       "      <th>kmer_in_sequence</th>\n",
       "      <th>kmer_in_alphabet</th>\n",
       "      <th>hashval</th>\n",
       "      <th>read_name</th>\n",
       "      <th>filename</th>\n",
       "    </tr>\n",
       "  </thead>\n",
       "  <tbody>\n",
       "    <tr>\n",
       "      <th>0</th>\n",
       "      <td>MTRCTADNSLTNPAY</td>\n",
       "      <td>hpppphppphpphhh</td>\n",
       "      <td>7585921404190484870</td>\n",
       "      <td>sp|P41958|CED9_CAEEL Apoptosis regulator ced-9...</td>\n",
       "      <td>ced9_P41958.fasta</td>\n",
       "    </tr>\n",
       "    <tr>\n",
       "      <th>1</th>\n",
       "      <td>TRCTADNSLTNPAYR</td>\n",
       "      <td>pppphppphpphhhp</td>\n",
       "      <td>13419504689273068280</td>\n",
       "      <td>sp|P41958|CED9_CAEEL Apoptosis regulator ced-9...</td>\n",
       "      <td>ced9_P41958.fasta</td>\n",
       "    </tr>\n",
       "    <tr>\n",
       "      <th>2</th>\n",
       "      <td>RCTADNSLTNPAYRR</td>\n",
       "      <td>ppphppphpphhhpp</td>\n",
       "      <td>7765603197291198508</td>\n",
       "      <td>sp|P41958|CED9_CAEEL Apoptosis regulator ced-9...</td>\n",
       "      <td>ced9_P41958.fasta</td>\n",
       "    </tr>\n",
       "    <tr>\n",
       "      <th>3</th>\n",
       "      <td>CTADNSLTNPAYRRR</td>\n",
       "      <td>pphppphpphhhppp</td>\n",
       "      <td>1151751887590685437</td>\n",
       "      <td>sp|P41958|CED9_CAEEL Apoptosis regulator ced-9...</td>\n",
       "      <td>ced9_P41958.fasta</td>\n",
       "    </tr>\n",
       "    <tr>\n",
       "      <th>4</th>\n",
       "      <td>TADNSLTNPAYRRRT</td>\n",
       "      <td>phppphpphhhpppp</td>\n",
       "      <td>6992360843807507041</td>\n",
       "      <td>sp|P41958|CED9_CAEEL Apoptosis regulator ced-9...</td>\n",
       "      <td>ced9_P41958.fasta</td>\n",
       "    </tr>\n",
       "  </tbody>\n",
       "</table>\n",
       "</div>"
      ],
      "text/plain": [
       "  kmer_in_sequence kmer_in_alphabet               hashval  \\\n",
       "0  MTRCTADNSLTNPAY  hpppphppphpphhh   7585921404190484870   \n",
       "1  TRCTADNSLTNPAYR  pppphppphpphhhp  13419504689273068280   \n",
       "2  RCTADNSLTNPAYRR  ppphppphpphhhpp   7765603197291198508   \n",
       "3  CTADNSLTNPAYRRR  pphppphpphhhppp   1151751887590685437   \n",
       "4  TADNSLTNPAYRRRT  phppphpphhhpppp   6992360843807507041   \n",
       "\n",
       "                                           read_name           filename  \n",
       "0  sp|P41958|CED9_CAEEL Apoptosis regulator ced-9...  ced9_P41958.fasta  \n",
       "1  sp|P41958|CED9_CAEEL Apoptosis regulator ced-9...  ced9_P41958.fasta  \n",
       "2  sp|P41958|CED9_CAEEL Apoptosis regulator ced-9...  ced9_P41958.fasta  \n",
       "3  sp|P41958|CED9_CAEEL Apoptosis regulator ced-9...  ced9_P41958.fasta  \n",
       "4  sp|P41958|CED9_CAEEL Apoptosis regulator ced-9...  ced9_P41958.fasta  "
      ]
     },
     "execution_count": 46,
     "metadata": {},
     "output_type": "execute_result"
    }
   ],
   "source": [
    "ced9.head()"
   ]
  },
  {
   "cell_type": "code",
   "execution_count": 50,
   "id": "fe83522e-342f-47ed-ae89-698121e6f791",
   "metadata": {},
   "outputs": [
    {
     "data": {
      "text/html": [
       "<div>\n",
       "<style scoped>\n",
       "    .dataframe tbody tr th:only-of-type {\n",
       "        vertical-align: middle;\n",
       "    }\n",
       "\n",
       "    .dataframe tbody tr th {\n",
       "        vertical-align: top;\n",
       "    }\n",
       "\n",
       "    .dataframe thead th {\n",
       "        text-align: right;\n",
       "    }\n",
       "</style>\n",
       "<table border=\"1\" class=\"dataframe\">\n",
       "  <thead>\n",
       "    <tr style=\"text-align: right;\">\n",
       "      <th></th>\n",
       "      <th>kmer_in_sequence</th>\n",
       "      <th>kmer_in_alphabet</th>\n",
       "      <th>hashval</th>\n",
       "      <th>read_name</th>\n",
       "      <th>filename</th>\n",
       "    </tr>\n",
       "  </thead>\n",
       "  <tbody>\n",
       "    <tr>\n",
       "      <th>162</th>\n",
       "      <td>QCPMSYGRLIGLISF</td>\n",
       "      <td>pphhphhphhhhhph</td>\n",
       "      <td>2474282513327167724</td>\n",
       "      <td>sp|P41958|CED9_CAEEL Apoptosis regulator ced-9...</td>\n",
       "      <td>ced9_P41958.fasta</td>\n",
       "    </tr>\n",
       "    <tr>\n",
       "      <th>163</th>\n",
       "      <td>CPMSYGRLIGLISFG</td>\n",
       "      <td>phhphhphhhhhphh</td>\n",
       "      <td>873697441541549083</td>\n",
       "      <td>sp|P41958|CED9_CAEEL Apoptosis regulator ced-9...</td>\n",
       "      <td>ced9_P41958.fasta</td>\n",
       "    </tr>\n",
       "    <tr>\n",
       "      <th>164</th>\n",
       "      <td>PMSYGRLIGLISFGG</td>\n",
       "      <td>hhphhphhhhhphhh</td>\n",
       "      <td>4214902949673065833</td>\n",
       "      <td>sp|P41958|CED9_CAEEL Apoptosis regulator ced-9...</td>\n",
       "      <td>ced9_P41958.fasta</td>\n",
       "    </tr>\n",
       "    <tr>\n",
       "      <th>165</th>\n",
       "      <td>MSYGRLIGLISFGGF</td>\n",
       "      <td>hphhphhhhhphhhh</td>\n",
       "      <td>5162299627079407232</td>\n",
       "      <td>sp|P41958|CED9_CAEEL Apoptosis regulator ced-9...</td>\n",
       "      <td>ced9_P41958.fasta</td>\n",
       "    </tr>\n",
       "    <tr>\n",
       "      <th>166</th>\n",
       "      <td>SYGRLIGLISFGGFV</td>\n",
       "      <td>phhphhhhhphhhhh</td>\n",
       "      <td>3128169917091194898</td>\n",
       "      <td>sp|P41958|CED9_CAEEL Apoptosis regulator ced-9...</td>\n",
       "      <td>ced9_P41958.fasta</td>\n",
       "    </tr>\n",
       "  </tbody>\n",
       "</table>\n",
       "</div>"
      ],
      "text/plain": [
       "    kmer_in_sequence kmer_in_alphabet              hashval  \\\n",
       "162  QCPMSYGRLIGLISF  pphhphhphhhhhph  2474282513327167724   \n",
       "163  CPMSYGRLIGLISFG  phhphhphhhhhphh   873697441541549083   \n",
       "164  PMSYGRLIGLISFGG  hhphhphhhhhphhh  4214902949673065833   \n",
       "165  MSYGRLIGLISFGGF  hphhphhhhhphhhh  5162299627079407232   \n",
       "166  SYGRLIGLISFGGFV  phhphhhhhphhhhh  3128169917091194898   \n",
       "\n",
       "                                             read_name           filename  \n",
       "162  sp|P41958|CED9_CAEEL Apoptosis regulator ced-9...  ced9_P41958.fasta  \n",
       "163  sp|P41958|CED9_CAEEL Apoptosis regulator ced-9...  ced9_P41958.fasta  \n",
       "164  sp|P41958|CED9_CAEEL Apoptosis regulator ced-9...  ced9_P41958.fasta  \n",
       "165  sp|P41958|CED9_CAEEL Apoptosis regulator ced-9...  ced9_P41958.fasta  \n",
       "166  sp|P41958|CED9_CAEEL Apoptosis regulator ced-9...  ced9_P41958.fasta  "
      ]
     },
     "execution_count": 50,
     "metadata": {},
     "output_type": "execute_result"
    }
   ],
   "source": [
    "ced9_in_bcl2 = ced9.query(\"hashval in @bcl2_hashes\")\n",
    "ced9_in_bcl2"
   ]
  },
  {
   "cell_type": "code",
   "execution_count": 51,
   "id": "9099cf0a-0d9d-43e0-9bfb-1d56b949b2ba",
   "metadata": {},
   "outputs": [
    {
     "data": {
      "text/html": [
       "<div>\n",
       "<style scoped>\n",
       "    .dataframe tbody tr th:only-of-type {\n",
       "        vertical-align: middle;\n",
       "    }\n",
       "\n",
       "    .dataframe tbody tr th {\n",
       "        vertical-align: top;\n",
       "    }\n",
       "\n",
       "    .dataframe thead th {\n",
       "        text-align: right;\n",
       "    }\n",
       "</style>\n",
       "<table border=\"1\" class=\"dataframe\">\n",
       "  <thead>\n",
       "    <tr style=\"text-align: right;\">\n",
       "      <th></th>\n",
       "      <th>kmer_in_sequence</th>\n",
       "      <th>kmer_in_alphabet</th>\n",
       "      <th>hashval</th>\n",
       "      <th>read_name</th>\n",
       "      <th>filename</th>\n",
       "    </tr>\n",
       "  </thead>\n",
       "  <tbody>\n",
       "    <tr>\n",
       "      <th>138</th>\n",
       "      <td>RDGVNWGRIVAFFEF</td>\n",
       "      <td>pphhphhphhhhhph</td>\n",
       "      <td>2474282513327167724</td>\n",
       "      <td>sp|P10415|BCL2_HUMAN Apoptosis regulator Bcl-2...</td>\n",
       "      <td>bcl2_P10415.fasta</td>\n",
       "    </tr>\n",
       "    <tr>\n",
       "      <th>139</th>\n",
       "      <td>DGVNWGRIVAFFEFG</td>\n",
       "      <td>phhphhphhhhhphh</td>\n",
       "      <td>873697441541549083</td>\n",
       "      <td>sp|P10415|BCL2_HUMAN Apoptosis regulator Bcl-2...</td>\n",
       "      <td>bcl2_P10415.fasta</td>\n",
       "    </tr>\n",
       "    <tr>\n",
       "      <th>140</th>\n",
       "      <td>GVNWGRIVAFFEFGG</td>\n",
       "      <td>hhphhphhhhhphhh</td>\n",
       "      <td>4214902949673065833</td>\n",
       "      <td>sp|P10415|BCL2_HUMAN Apoptosis regulator Bcl-2...</td>\n",
       "      <td>bcl2_P10415.fasta</td>\n",
       "    </tr>\n",
       "    <tr>\n",
       "      <th>141</th>\n",
       "      <td>VNWGRIVAFFEFGGV</td>\n",
       "      <td>hphhphhhhhphhhh</td>\n",
       "      <td>5162299627079407232</td>\n",
       "      <td>sp|P10415|BCL2_HUMAN Apoptosis regulator Bcl-2...</td>\n",
       "      <td>bcl2_P10415.fasta</td>\n",
       "    </tr>\n",
       "    <tr>\n",
       "      <th>142</th>\n",
       "      <td>NWGRIVAFFEFGGVM</td>\n",
       "      <td>phhphhhhhphhhhh</td>\n",
       "      <td>3128169917091194898</td>\n",
       "      <td>sp|P10415|BCL2_HUMAN Apoptosis regulator Bcl-2...</td>\n",
       "      <td>bcl2_P10415.fasta</td>\n",
       "    </tr>\n",
       "  </tbody>\n",
       "</table>\n",
       "</div>"
      ],
      "text/plain": [
       "    kmer_in_sequence kmer_in_alphabet              hashval  \\\n",
       "138  RDGVNWGRIVAFFEF  pphhphhphhhhhph  2474282513327167724   \n",
       "139  DGVNWGRIVAFFEFG  phhphhphhhhhphh   873697441541549083   \n",
       "140  GVNWGRIVAFFEFGG  hhphhphhhhhphhh  4214902949673065833   \n",
       "141  VNWGRIVAFFEFGGV  hphhphhhhhphhhh  5162299627079407232   \n",
       "142  NWGRIVAFFEFGGVM  phhphhhhhphhhhh  3128169917091194898   \n",
       "\n",
       "                                             read_name           filename  \n",
       "138  sp|P10415|BCL2_HUMAN Apoptosis regulator Bcl-2...  bcl2_P10415.fasta  \n",
       "139  sp|P10415|BCL2_HUMAN Apoptosis regulator Bcl-2...  bcl2_P10415.fasta  \n",
       "140  sp|P10415|BCL2_HUMAN Apoptosis regulator Bcl-2...  bcl2_P10415.fasta  \n",
       "141  sp|P10415|BCL2_HUMAN Apoptosis regulator Bcl-2...  bcl2_P10415.fasta  \n",
       "142  sp|P10415|BCL2_HUMAN Apoptosis regulator Bcl-2...  bcl2_P10415.fasta  "
      ]
     },
     "execution_count": 51,
     "metadata": {},
     "output_type": "execute_result"
    }
   ],
   "source": [
    "bcl2_in_ced9 = bcl2.query(\"hashval in @ced9_hashes\")\n",
    "bcl2_in_ced9"
   ]
  },
  {
   "cell_type": "markdown",
   "id": "5011f319-d574-4a91-a465-0e06ab7eb161",
   "metadata": {},
   "source": [
    "## I'd like to show a semi-alignment"
   ]
  },
  {
   "cell_type": "code",
   "execution_count": 54,
   "id": "573f0ed9-2853-4c89-a836-cf0a8b457623",
   "metadata": {},
   "outputs": [
    {
     "name": "stdout",
     "output_type": "stream",
     "text": [
      "QCPMSYGRLIGLISFGGFV\n",
      "pphhphhphhhhhphhhhh\n",
      "RDGVNWGRIVAFFEFGGVM\n"
     ]
    }
   ],
   "source": [
    "prev_i = 0\n",
    "for i, row in ced9_in_bcl2.iterrows():\n",
    "\n",
    "    bcl2_possible = bcl2_in_ced9.query(\"hashval == @row.hashval\")\n",
    "    if len(bcl2_possible) == 1:\n",
    "        bcl2_kmer_to_add = bcl2_possible.iloc[0].kmer_in_sequence\n",
    "    else:\n",
    "        print(bcl2_possible)\n",
    "        print(\"Too many bcl2 k-mers, skipping\")\n",
    "        continue\n",
    "\n",
    "    if prev_i < i - 1:\n",
    "        # New kmer, don't build onto old one\n",
    "        ced9_kmer = row.kmer_in_sequence\n",
    "        hp_kmer = row.kmer_in_alphabet\n",
    "        bcl2_kmer = bcl2_kmer_to_add\n",
    "    else:\n",
    "        # Build onto previous kmer\n",
    "        ced9_kmer += row.kmer_in_sequence[-1]\n",
    "        hp_kmer += row.kmer_in_alphabet[-1]\n",
    "        bcl2_kmer += bcl2_kmer_to_add[-1]\n",
    "\n",
    "    prev_i = i\n",
    "\n",
    "print(f\"{ced9_kmer}\\n{hp_kmer}\\n{bcl2_kmer}\")\n"
   ]
  },
  {
   "cell_type": "code",
   "execution_count": null,
   "id": "177ae014-512e-4209-8e26-a90f6262995b",
   "metadata": {},
   "outputs": [],
   "source": []
  }
 ],
 "metadata": {
  "kernelspec": {
   "display_name": "Python [conda env:data-analysis]",
   "language": "python",
   "name": "conda-env-data-analysis-py"
  },
  "language_info": {
   "codemirror_mode": {
    "name": "ipython",
    "version": 3
   },
   "file_extension": ".py",
   "mimetype": "text/x-python",
   "name": "python",
   "nbconvert_exporter": "python",
   "pygments_lexer": "ipython3",
   "version": "3.12.2"
  }
 },
 "nbformat": 4,
 "nbformat_minor": 5
}
